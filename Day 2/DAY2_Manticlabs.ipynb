{
  "cells": [
    {
      "cell_type": "markdown",
      "metadata": {
        "colab_type": "text",
        "id": "view-in-github"
      },
      "source": [
        "<a href=\"https://colab.research.google.com/github/vaibhav209/Python-with-Django/blob/master/DAY2_Manticlabs.ipynb\" target=\"_parent\"><img src=\"https://colab.research.google.com/assets/colab-badge.svg\" alt=\"Open In Colab\"/></a>"
      ]
    },
    {
      "cell_type": "markdown",
      "metadata": {
        "id": "pLxxXOBrQox_"
      },
      "source": [
        "# Comment in python can be done using:\n",
        "\n",
        "*   #\n",
        "*   `\n"
      ]
    },
    {
      "cell_type": "code",
      "execution_count": 2,
      "metadata": {
        "id": "Gb0g3FMuQ4ps"
      },
      "outputs": [],
      "source": [
        "#hello\n",
        "#print(hello)"
      ]
    },
    {
      "cell_type": "markdown",
      "metadata": {
        "id": "oKbUKSn3RAnk"
      },
      "source": [
        "# variables in python:\n",
        "\n",
        "\n",
        "*   no need to decaler variable name\n",
        "*   \" or ' both can be used for strings\n",
        "*   we can change value of variable after assigning it \n",
        "\n"
      ]
    },
    {
      "cell_type": "code",
      "execution_count": 3,
      "metadata": {
        "colab": {
          "base_uri": "https://localhost:8080/"
        },
        "id": "8helVLJJReuY",
        "outputId": "fbb9d020-355c-4aa5-f497-7655e61d6b20"
      },
      "outputs": [
        {
          "name": "stdout",
          "output_type": "stream",
          "text": [
            "<class 'str'>\n",
            "vaibhav\n",
            "patel\n",
            "<class 'int'>\n"
          ]
        }
      ],
      "source": [
        "name=\"vaibhav\"\n",
        "print(type(name))\n",
        "print(name)\n",
        "name=\"patel\"\n",
        "print(name)\n",
        "name=123\n",
        "print(type(name))"
      ]
    },
    {
      "cell_type": "code",
      "execution_count": 4,
      "metadata": {
        "colab": {
          "base_uri": "https://localhost:8080/"
        },
        "id": "ptMLp69iR7dy",
        "outputId": "113dafa2-37b8-4ace-a7aa-627a8d39d6f5"
      },
      "outputs": [
        {
          "name": "stdout",
          "output_type": "stream",
          "text": [
            "10\n",
            "20\n",
            "30\n"
          ]
        }
      ],
      "source": [
        "#assigning value to multiple variable in single line\n",
        "a,b,c=10,20,30\n",
        "print(a)\n",
        "print(b)\n",
        "print(c)"
      ]
    },
    {
      "cell_type": "markdown",
      "metadata": {
        "id": "Fiyw_t4ISgmA"
      },
      "source": [
        "# Number datatype:\n",
        "\n",
        "1.   int\n",
        "2.   float\n",
        "3.   complex number\n",
        "\n",
        "type(): to check datatype of variable:\n",
        "\n",
        "\n",
        "---\n",
        "isinstance() - is used to check if the given variable is the instance of given type.\n",
        "\n",
        "\n"
      ]
    },
    {
      "cell_type": "code",
      "execution_count": 5,
      "metadata": {
        "colab": {
          "base_uri": "https://localhost:8080/"
        },
        "id": "eXG-lrwRSbfe",
        "outputId": "3d91d393-5974-42e9-d77c-da727d9a74d3"
      },
      "outputs": [
        {
          "name": "stdout",
          "output_type": "stream",
          "text": [
            "<class 'int'>\n",
            "<class 'float'>\n",
            "wether n2 is a int or not : False\n"
          ]
        }
      ],
      "source": [
        "n=10\n",
        "print(type(n))\n",
        "n2=10.5\n",
        "print(type(n2))\n",
        "print(\"wether n2 is a int or not :\",isinstance(n2,int))"
      ]
    },
    {
      "cell_type": "code",
      "execution_count": 6,
      "metadata": {
        "colab": {
          "base_uri": "https://localhost:8080/"
        },
        "id": "IiYcLP9kTxWT",
        "outputId": "e60db9f7-4e64-4ef0-c0fb-0b6bc2b51863"
      },
      "outputs": [
        {
          "name": "stdout",
          "output_type": "stream",
          "text": [
            "<class 'complex'>\n"
          ]
        }
      ],
      "source": [
        "n=10+2j\n",
        "print(type(n))"
      ]
    },
    {
      "cell_type": "markdown",
      "metadata": {
        "id": "gXWbF4ksUYSv"
      },
      "source": [
        "# string\n",
        "\n",
        "*   silicing\n",
        "*   List item\n",
        "\n"
      ]
    },
    {
      "cell_type": "code",
      "execution_count": 7,
      "metadata": {
        "colab": {
          "base_uri": "https://localhost:8080/"
        },
        "id": "8T4SKIyiUHYq",
        "outputId": "9200bbca-b3d9-47df-9f5d-a7770d97dda4"
      },
      "outputs": [
        {
          "name": "stdout",
          "output_type": "stream",
          "text": [
            "vaibhav\n",
            "---slicing---\n",
            "ibh\n",
            "ibhav\n",
            "vaibh\n",
            "246\n"
          ]
        }
      ],
      "source": [
        "n=\"vaibhav\"\n",
        "print(n)\n",
        "print(\"---slicing---\")\n",
        "print(n[2:5])\n",
        "print(n[2:])\n",
        "print(n[:5])\n",
        "print(name*2)"
      ]
    },
    {
      "cell_type": "markdown",
      "metadata": {
        "id": "OJ8-xcb6V8cl"
      },
      "source": [
        "# list\n",
        "\n",
        "*   can add multiple data type value\n",
        "*   [] is used\n",
        "*   \n",
        "\n"
      ]
    },
    {
      "cell_type": "code",
      "execution_count": 8,
      "metadata": {
        "colab": {
          "base_uri": "https://localhost:8080/"
        },
        "id": "Hfz6loaBWQ91",
        "outputId": "9474d2ff-b375-4604-8cbe-1c643bc71aa2"
      },
      "outputs": [
        {
          "name": "stdout",
          "output_type": "stream",
          "text": [
            "[1, 2, 'vaibhav']\n",
            "<class 'list'>\n",
            "[2, 'vaibhav']\n",
            "[1, 2, 'vaibhav']\n"
          ]
        }
      ],
      "source": [
        "l=[1,2,\"vaibhav\"]\n",
        "print(l)\n",
        "print(type(l))\n",
        "#slicing in list\n",
        "print(l[1:])\n",
        "print(l[:3])\n"
      ]
    },
    {
      "cell_type": "markdown",
      "metadata": {
        "id": "hAbXo-cOXpGD"
      },
      "source": [
        "# tuple\n",
        "\n",
        "\n",
        "*   immutable\n",
        "*   () is used\n",
        "\n"
      ]
    },
    {
      "cell_type": "code",
      "execution_count": 9,
      "metadata": {
        "colab": {
          "base_uri": "https://localhost:8080/"
        },
        "id": "VYU4J576Xvay",
        "outputId": "3d49254e-d346-40aa-8774-26b5e3e3b399"
      },
      "outputs": [
        {
          "name": "stdout",
          "output_type": "stream",
          "text": [
            "(1, 2, 3, 'vaibhav')\n",
            "<class 'tuple'>\n",
            "3\n",
            "(1, 2, 3)\n",
            "(3, 'vaibhav')\n",
            "(2, 3)\n"
          ]
        }
      ],
      "source": [
        "t=(1,2,3,\"vaibhav\")\n",
        "print(t)\n",
        "print(type(t))\n",
        "print(t[2])\n",
        "print(t[:3])\n",
        "print(t[2:])\n",
        "print(t[1:3])\n",
        "\n",
        "#this statemnt generates error\n",
        "#t[2]=98"
      ]
    },
    {
      "cell_type": "markdown",
      "metadata": {
        "id": "prfinrfGYa9l"
      },
      "source": [
        "# Dictionary\n",
        "\n",
        "\n",
        "*   store value in key value pair\n",
        "\n"
      ]
    },
    {
      "cell_type": "code",
      "execution_count": 10,
      "metadata": {
        "colab": {
          "base_uri": "https://localhost:8080/"
        },
        "id": "nl1VzYYvYZXQ",
        "outputId": "fb434827-94da-47b2-d092-43823438f60c"
      },
      "outputs": [
        {
          "name": "stdout",
          "output_type": "stream",
          "text": [
            "{1: 'vaibhav', 2: 'patel', 'cllg': 'HGCE'}\n",
            "<class 'dict'>\n",
            "name: vaibhav\n"
          ]
        }
      ],
      "source": [
        "d={1:\"vaibhav\", 2:\"patel\",\"cllg\":\"HGCE\"}\n",
        "print(d)\n",
        "print(type(d))\n",
        "print(\"name:\",d[1])"
      ]
    }
  ],
  "metadata": {
    "colab": {
      "authorship_tag": "ABX9TyPZGv7DMloMtW4otsW6oIYK",
      "collapsed_sections": [],
      "include_colab_link": true,
      "name": "DAY2_Manticlabs.ipynb",
      "provenance": []
    },
    "kernelspec": {
      "display_name": "Python 3.10.5 64-bit",
      "language": "python",
      "name": "python3"
    },
    "language_info": {
      "codemirror_mode": {
        "name": "ipython",
        "version": 3
      },
      "file_extension": ".py",
      "mimetype": "text/x-python",
      "name": "python",
      "nbconvert_exporter": "python",
      "pygments_lexer": "ipython3",
      "version": "3.10.5"
    },
    "vscode": {
      "interpreter": {
        "hash": "af3d4b4a9b36c42385c65ba6cde76bc0fbbfb198037448cb630978b484747b49"
      }
    }
  },
  "nbformat": 4,
  "nbformat_minor": 0
}
