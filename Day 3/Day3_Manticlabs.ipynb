{
  "nbformat": 4,
  "nbformat_minor": 0,
  "metadata": {
    "colab": {
      "name": "Day3_Manticlabs.ipynb",
      "provenance": [],
      "collapsed_sections": [],
      "authorship_tag": "ABX9TyPNU1ErqR8Z2yInrjbQXIpN",
      "include_colab_link": true
    },
    "kernelspec": {
      "name": "python3",
      "display_name": "Python 3"
    },
    "language_info": {
      "name": "python"
    }
  },
  "cells": [
    {
      "cell_type": "markdown",
      "metadata": {
        "id": "view-in-github",
        "colab_type": "text"
      },
      "source": [
      ]
    },
    {
      "cell_type": "markdown",
      "metadata": {
        "id": "dv-ZRAwa0LeC"
      },
      "source": [
        "# Input from user"
      ]
    },
    {
      "cell_type": "code",
      "metadata": {
        "colab": {
          "base_uri": "https://localhost:8080/"
        },
        "id": "rb1s85K-0BCm",
        "outputId": "6923eabd-ca37-44c6-8d7c-fb5025488728"
      },
      "source": [
        "n=input(\"enter something\")\n",
        "print(n)"
      ],
      "execution_count": 1,
      "outputs": [
        {
          "output_type": "stream",
          "text": [
            "enter somethingvaibhav\n",
            "vaibhav\n"
          ],
          "name": "stdout"
        }
      ]
    },
    {
      "cell_type": "code",
      "metadata": {
        "colab": {
          "base_uri": "https://localhost:8080/"
        },
        "id": "47EiZaEp0Ym3",
        "outputId": "164a7265-44a0-4059-c7fa-ad3b0e1e80de"
      },
      "source": [
        "#sum of 2 no\n",
        "n1=input(\"enter num1\")\n",
        "n2=input(\"enter num2\")\n",
        "ans=n1+n2\n",
        "print(\"sum=\",ans)"
      ],
      "execution_count": 2,
      "outputs": [
        {
          "output_type": "stream",
          "text": [
            "enter num12\n",
            "enter num23\n",
            "sum= 23\n"
          ],
          "name": "stdout"
        }
      ]
    },
    {
      "cell_type": "markdown",
      "metadata": {
        "id": "AgTuO1d50r5c"
      },
      "source": [
        "input method return value in string so we need to tyoe cast the value to other data type"
      ]
    },
    {
      "cell_type": "code",
      "metadata": {
        "colab": {
          "base_uri": "https://localhost:8080/"
        },
        "id": "R0clEG1S0o21",
        "outputId": "839168e6-8ee6-4500-f8f3-8d23c9b9994b"
      },
      "source": [
        "#sum of 2 no\n",
        "n1=int(input(\"enter num1\"))\n",
        "n2=int(input(\"enter num2\"))\n",
        "ans=n1+n2\n",
        "print(\"sum=\",ans)"
      ],
      "execution_count": 3,
      "outputs": [
        {
          "output_type": "stream",
          "text": [
            "enter num13\n",
            "enter num24\n",
            "sum= 7\n"
          ],
          "name": "stdout"
        }
      ]
    },
    {
      "cell_type": "markdown",
      "metadata": {
        "id": "bLJ6gjCL1BPV"
      },
      "source": [
        "#conditional statement\n",
        "\n",
        "*   if\n",
        "*   if..else\n",
        "* elseif\n",
        "*nested if\n"
      ]
    },
    {
      "cell_type": "code",
      "metadata": {
        "colab": {
          "base_uri": "https://localhost:8080/"
        },
        "id": "uWtB6Pjl2TiW",
        "outputId": "7bcc36e8-f5b8-400d-9ddc-42573aae3c00"
      },
      "source": [
        "n1=10\n",
        "n2=20\n",
        "if n1>n2:\n",
        "  print(n1,\" is greater\")\n",
        "if n2>n1:\n",
        "  print(n2,\" is greater\")"
      ],
      "execution_count": 5,
      "outputs": [
        {
          "output_type": "stream",
          "text": [
            "20  is greater\n"
          ],
          "name": "stdout"
        }
      ]
    },
    {
      "cell_type": "code",
      "metadata": {
        "colab": {
          "base_uri": "https://localhost:8080/"
        },
        "id": "RY8t1NDo1Ndp",
        "outputId": "ba297573-193a-481a-8684-a70e6abc0ea2"
      },
      "source": [
        "n1=10\n",
        "n2=20\n",
        "if n1>n2:\n",
        "  print(n1,\" is greater\")\n",
        "else:\n",
        "  print(n2,\" is greater\")"
      ],
      "execution_count": 4,
      "outputs": [
        {
          "output_type": "stream",
          "text": [
            "20  is greater\n"
          ],
          "name": "stdout"
        }
      ]
    },
    {
      "cell_type": "code",
      "metadata": {
        "colab": {
          "base_uri": "https://localhost:8080/"
        },
        "id": "SDKC7Ycl2tDx",
        "outputId": "96fc13a5-1f03-4ba5-a3d7-3ddaaf7a1217"
      },
      "source": [
        "n1=20\n",
        "n2=20\n",
        "if n1>n2:\n",
        "  print(n1,\" is greater\")\n",
        "elif n2>n1:\n",
        "  print(n2,\" is greater\")\n",
        "else:\n",
        "  print(\"both numbers are equal\")"
      ],
      "execution_count": 7,
      "outputs": [
        {
          "output_type": "stream",
          "text": [
            "both numbers are equal\n"
          ],
          "name": "stdout"
        }
      ]
    },
    {
      "cell_type": "markdown",
      "metadata": {
        "id": "xQAWittN40Fy"
      },
      "source": [
        "#loop\n",
        "\n",
        "* while\n",
        "*   for"
      ]
    },
    {
      "cell_type": "code",
      "metadata": {
        "colab": {
          "base_uri": "https://localhost:8080/"
        },
        "id": "uXykPSjf47wC",
        "outputId": "e8a6f5de-cc87-4565-be6d-94b1aa6e8a5c"
      },
      "source": [
        "i=1\n",
        "while i <=10:\n",
        "  print(i)\n",
        "  i+=1"
      ],
      "execution_count": 9,
      "outputs": [
        {
          "output_type": "stream",
          "text": [
            "1\n",
            "2\n",
            "3\n",
            "4\n",
            "5\n",
            "6\n",
            "7\n",
            "8\n",
            "9\n",
            "10\n"
          ],
          "name": "stdout"
        }
      ]
    },
    {
      "cell_type": "code",
      "metadata": {
        "colab": {
          "base_uri": "https://localhost:8080/"
        },
        "id": "Sk2s-gdL5VY7",
        "outputId": "9cba1071-d85b-4e45-d750-a3c46d01997f"
      },
      "source": [
        "for i in 'Hello':\n",
        "  print(\"value: \",i)"
      ],
      "execution_count": 10,
      "outputs": [
        {
          "output_type": "stream",
          "text": [
            "value:  H\n",
            "value:  e\n",
            "value:  l\n",
            "value:  l\n",
            "value:  o\n"
          ],
          "name": "stdout"
        }
      ]
    },
    {
      "cell_type": "code",
      "metadata": {
        "colab": {
          "base_uri": "https://localhost:8080/"
        },
        "id": "pWSTaw6S3Y7D",
        "outputId": "248417ff-db90-42da-d02c-3fc0fb38bb5b"
      },
      "source": [
        "l1=[1,2,3,4,54]\n",
        "print(l1)\n",
        "\n",
        "for i in l1:\n",
        "  print(i)"
      ],
      "execution_count": 11,
      "outputs": [
        {
          "output_type": "stream",
          "text": [
            "[1, 2, 3, 4, 54]\n",
            "1\n",
            "2\n",
            "3\n",
            "4\n",
            "54\n"
          ],
          "name": "stdout"
        }
      ]
    },
    {
      "cell_type": "markdown",
      "metadata": {
        "id": "wGX_NelH7pFH"
      },
      "source": [
        "#for loop using range"
      ]
    },
    {
      "cell_type": "code",
      "metadata": {
        "colab": {
          "base_uri": "https://localhost:8080/"
        },
        "id": "76pLA7Vx7XjN",
        "outputId": "f73a8415-5351-4d9a-cd02-68babd94382a"
      },
      "source": [
        "for i in range(10):\n",
        "  print(i)"
      ],
      "execution_count": 12,
      "outputs": [
        {
          "output_type": "stream",
          "text": [
            "0\n",
            "1\n",
            "2\n",
            "3\n",
            "4\n",
            "5\n",
            "6\n",
            "7\n",
            "8\n",
            "9\n"
          ],
          "name": "stdout"
        }
      ]
    },
    {
      "cell_type": "code",
      "metadata": {
        "colab": {
          "base_uri": "https://localhost:8080/"
        },
        "id": "rFgLj82C7bSk",
        "outputId": "d14ae945-b048-4fb8-856a-896b473f9754"
      },
      "source": [
        "\n",
        "for i in range(5,10):\n",
        "  print(i)"
      ],
      "execution_count": 13,
      "outputs": [
        {
          "output_type": "stream",
          "text": [
            "5\n",
            "6\n",
            "7\n",
            "8\n",
            "9\n"
          ],
          "name": "stdout"
        }
      ]
    },
    {
      "cell_type": "code",
      "metadata": {
        "colab": {
          "base_uri": "https://localhost:8080/"
        },
        "id": "pKmekAZv7etf",
        "outputId": "45464f9c-1332-4c09-f164-f41bddf8e009"
      },
      "source": [
        "for i in range(1,10,2):\n",
        "  print(i)"
      ],
      "execution_count": 14,
      "outputs": [
        {
          "output_type": "stream",
          "text": [
            "1\n",
            "3\n",
            "5\n",
            "7\n",
            "9\n"
          ],
          "name": "stdout"
        }
      ]
    },
    {
      "cell_type": "code",
      "metadata": {
        "colab": {
          "base_uri": "https://localhost:8080/"
        },
        "id": "u5lDR1A07mlW",
        "outputId": "0658ecd2-181a-4033-d42c-396c1d4c7790"
      },
      "source": [
        "l1=[1,2,3,4,5,6,7,8,9]\n",
        "for i in l1:\n",
        "  print(i)\n",
        "  "
      ],
      "execution_count": 16,
      "outputs": [
        {
          "output_type": "stream",
          "text": [
            "1\n",
            "2\n",
            "3\n",
            "4\n",
            "5\n",
            "6\n",
            "7\n",
            "8\n",
            "9\n"
          ],
          "name": "stdout"
        }
      ]
    },
    {
      "cell_type": "markdown",
      "metadata": {
        "id": "6nmbpSFk9V2P"
      },
      "source": [
        "#control Statement\n",
        "* break\n",
        "* continue"
      ]
    },
    {
      "cell_type": "code",
      "metadata": {
        "colab": {
          "base_uri": "https://localhost:8080/"
        },
        "id": "Ee_yx2Ns9cZ7",
        "outputId": "f9296083-64a9-4d0b-e88d-937c592c97b4"
      },
      "source": [
        "i=0\n",
        "for i in range(10):\n",
        "  if (i>5):\n",
        "    break\n",
        "  if (i%3==0):\n",
        "    continue\n",
        "  print(i)"
      ],
      "execution_count": 28,
      "outputs": [
        {
          "output_type": "stream",
          "text": [
            "1\n",
            "2\n",
            "4\n",
            "5\n"
          ],
          "name": "stdout"
        }
      ]
    },
    {
      "cell_type": "markdown",
      "metadata": {
        "id": "UryPJXMV-gFb"
      },
      "source": [
        "#pass\n"
      ]
    },
    {
      "cell_type": "code",
      "metadata": {
        "colab": {
          "base_uri": "https://localhost:8080/",
          "height": 128
        },
        "id": "3HT__seC-Vif",
        "outputId": "18718589-bfd2-42b7-bbe8-e1e93fe8a73d"
      },
      "source": [
        "i=5\n",
        "if (i==5):\n",
        "  print(i)\n",
        "else:\n",
        "  "
      ],
      "execution_count": 29,
      "outputs": [
        {
          "output_type": "error",
          "ename": "SyntaxError",
          "evalue": "ignored",
          "traceback": [
            "\u001b[0;36m  File \u001b[0;32m\"<ipython-input-29-48751b4806c4>\"\u001b[0;36m, line \u001b[0;32m5\u001b[0m\n\u001b[0;31m    \u001b[0m\n\u001b[0m    ^\u001b[0m\n\u001b[0;31mSyntaxError\u001b[0m\u001b[0;31m:\u001b[0m unexpected EOF while parsing\n"
          ]
        }
      ]
    },
    {
      "cell_type": "code",
      "metadata": {
        "colab": {
          "base_uri": "https://localhost:8080/"
        },
        "id": "C8fHhyyH-dxM",
        "outputId": "39bf6ba8-f2e3-4d09-c6a1-f3e6617efd42"
      },
      "source": [
        "\n",
        "i=5\n",
        "if (i==5):\n",
        "  print(i)\n",
        "else:\n",
        "  pass"
      ],
      "execution_count": 30,
      "outputs": [
        {
          "output_type": "stream",
          "text": [
            "5\n"
          ],
          "name": "stdout"
        }
      ]
    }
  ]
}