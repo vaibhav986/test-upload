{
  "cells": [
    {
      "cell_type": "markdown",
      "metadata": {
        "id": "VTJcQUZNBFSp"
      },
      "source": [
        "#class\n",
        "*"
      ]
    },
    {
      "cell_type": "markdown",
      "metadata": {
        "id": "53MuLdqQBnaZ"
      },
      "source": [
        "method are class member , they are depemdent on object.\n",
        "whereas finction are independent.\n",
        "\n",
        "##self \n",
        "* special argument of data member.\n",
        "*"
      ]
    },
    {
      "cell_type": "code",
      "execution_count": 1,
      "metadata": {
        "colab": {
          "base_uri": "https://localhost:8080/"
        },
        "id": "pOSh3dsFBEOJ",
        "outputId": "62b58690-f74d-46a8-d7d8-25930183c2ca"
      },
      "outputs": [
        {
          "name": "stdout",
          "output_type": "stream",
          "text": [
            "This is myFunction of class...\n",
            "value of name :  vaibhav\n"
          ]
        }
      ],
      "source": [
        "class Demo:\n",
        "  #as this function is class member , it cintains one argument as self\n",
        "  def myFunction(self):\n",
        "    print(\"This is myFunction of class...\")\n",
        "\n",
        "  def show(self,name):\n",
        "    print(\"value of name : \",name)\n",
        "\n",
        "\n",
        "d1=Demo()\n",
        "d1.myFunction()\n",
        "d1.show(\"vaibhav\")"
      ]
    },
    {
      "cell_type": "code",
      "execution_count": 2,
      "metadata": {
        "colab": {
          "base_uri": "https://localhost:8080/"
        },
        "id": "azlBdncTDaEw",
        "outputId": "9018a879-4cda-4e9d-dafe-a64888784cd2"
      },
      "outputs": [
        {
          "name": "stdout",
          "output_type": "stream",
          "text": [
            "This is myFunction of class...\n",
            "value of name :  vaibhav\n"
          ]
        }
      ],
      "source": [
        "class Demo:\n",
        "  #as this function is class member , it cintains one argument as self\n",
        "  def myFunction(self):\n",
        "    print(\"This is myFunction of class...\")\n",
        "\n",
        "  def show(self,name):\n",
        "    print(\"value of name : \",name)\n",
        "\n",
        "    def ___init___(self):\n",
        "      print(\"constructor calling\")\n",
        "\n",
        "d1=Demo()\n",
        "d1.myFunction()\n",
        "d1.show(\"vaibhav\")"
      ]
    },
    {
      "cell_type": "code",
      "execution_count": 3,
      "metadata": {
        "colab": {
          "base_uri": "https://localhost:8080/"
        },
        "id": "GUMyih9ZEWj3",
        "outputId": "b7a15603-5191-4e6f-ef49-087e704ef1bd"
      },
      "outputs": [
        {
          "name": "stdout",
          "output_type": "stream",
          "text": [
            "This is myFunction of class...\n",
            "value of name :  vaibhav\n"
          ]
        }
      ],
      "source": [
        "class Demo:\n",
        "  name=\"\"\n",
        "  #as this function is class member , it cintains one argument as self\n",
        "  def myFunction(self):\n",
        "    print(\"This is myFunction of class...\")\n",
        "\n",
        "  def show(self,name):\n",
        "    self.name=name\n",
        "    print(\"value of name : \",self.name)\n",
        "\n",
        "    def ___init___(self):\n",
        "      print(\"constructor calling\")\n",
        "\n",
        "d1=Demo()\n",
        "d1.myFunction()\n",
        "d1.show(\"vaibhav\")"
      ]
    },
    {
      "cell_type": "markdown",
      "metadata": {
        "id": "82mExmChGnkA"
      },
      "source": [
        "#single inheritance"
      ]
    },
    {
      "cell_type": "code",
      "execution_count": 4,
      "metadata": {
        "colab": {
          "base_uri": "https://localhost:8080/"
        },
        "id": "VwkKV8j_GBpd",
        "outputId": "ed6b32b8-e73e-441e-fc5c-d15e49a0e863"
      },
      "outputs": [
        {
          "name": "stdout",
          "output_type": "stream",
          "text": [
            "this is child class\n"
          ]
        }
      ],
      "source": [
        "class Demo:\n",
        "  def func1(self):\n",
        "    print(\"this is parent class\")\n",
        "\n",
        "class Demo1(Demo):\n",
        "  def __init__(self):\n",
        "    pass\n",
        "  \n",
        "  def func1(self):\n",
        "    print(\"this is child class\")\n",
        "\n",
        "d1=Demo1()\n",
        "d1.func1()"
      ]
    },
    {
      "cell_type": "markdown",
      "metadata": {
        "id": "wHruAQQvGqBd"
      },
      "source": [
        "#mutli level"
      ]
    },
    {
      "cell_type": "code",
      "execution_count": 5,
      "metadata": {
        "colab": {
          "base_uri": "https://localhost:8080/"
        },
        "id": "Pr17jNnlGrOC",
        "outputId": "96a1a8fc-87d1-4aef-8c1b-639acc686253"
      },
      "outputs": [
        {
          "name": "stdout",
          "output_type": "stream",
          "text": [
            "this is child's child class\n"
          ]
        }
      ],
      "source": [
        "class Demo:\n",
        "  def __init__(self):\n",
        "    print(\"this is parent class\")\n",
        "\n",
        "class Demo1(Demo):\n",
        "  def __init__(self):\n",
        "    print(\"this is child class\")\n",
        "  \n",
        "  def func1(self):\n",
        "    print(\"this is child class\")\n",
        "\n",
        "class Demo2(Demo1):\n",
        "  def __init__(self):\n",
        "    print(\"this is child's child class\")\n",
        "\n",
        "d1=Demo2()"
      ]
    },
    {
      "cell_type": "markdown",
      "metadata": {
        "id": "97Uy6QDHHJum"
      },
      "source": [
        "#Multiple INheritance"
      ]
    },
    {
      "cell_type": "code",
      "execution_count": 6,
      "metadata": {
        "id": "s1cFzvlNHNwF"
      },
      "outputs": [
        {
          "ename": "SyntaxError",
          "evalue": "expected ':' (1018373897.py, line 8)",
          "output_type": "error",
          "traceback": [
            "\u001b[1;36m  Input \u001b[1;32mIn [6]\u001b[1;36m\u001b[0m\n\u001b[1;33m    class C\u001b[0m\n\u001b[1;37m           ^\u001b[0m\n\u001b[1;31mSyntaxError\u001b[0m\u001b[1;31m:\u001b[0m expected ':'\n"
          ]
        }
      ],
      "source": [
        "class A:\n",
        "  def __init__(self):\n",
        "    print(\"this is child class\")\n",
        "\n",
        "class B:\n",
        "  def __init__(self):\n",
        "    print(\"this is child class\")\n",
        "class C"
      ]
    },
    {
      "cell_type": "markdown",
      "metadata": {
        "id": "uGqgPTgYJeqi"
      },
      "source": [
        "#overloading\n",
        "* not supported in python\n",
        "* lastly declared function will be considered only"
      ]
    },
    {
      "cell_type": "code",
      "execution_count": null,
      "metadata": {
        "colab": {
          "base_uri": "https://localhost:8080/",
          "height": 195
        },
        "id": "QmCWyWjBJnWz",
        "outputId": "9cf36e4d-8f61-49a2-d30f-18087bd9d655"
      },
      "outputs": [
        {
          "ename": "TypeError",
          "evalue": "ignored",
          "output_type": "error",
          "traceback": [
            "\u001b[0;31m---------------------------------------------------------------------------\u001b[0m",
            "\u001b[0;31mTypeError\u001b[0m                                 Traceback (most recent call last)",
            "\u001b[0;32m<ipython-input-19-a1747407e597>\u001b[0m in \u001b[0;36m<module>\u001b[0;34m()\u001b[0m\n\u001b[1;32m      8\u001b[0m \u001b[0;34m\u001b[0m\u001b[0m\n\u001b[1;32m      9\u001b[0m \u001b[0ma\u001b[0m\u001b[0;34m=\u001b[0m\u001b[0mMyClass\u001b[0m\u001b[0;34m(\u001b[0m\u001b[0;34m)\u001b[0m\u001b[0;34m\u001b[0m\u001b[0;34m\u001b[0m\u001b[0m\n\u001b[0;32m---> 10\u001b[0;31m \u001b[0ma\u001b[0m\u001b[0;34m.\u001b[0m\u001b[0msum\u001b[0m\u001b[0;34m(\u001b[0m\u001b[0;36m2\u001b[0m\u001b[0;34m,\u001b[0m\u001b[0;36m3\u001b[0m\u001b[0;34m)\u001b[0m\u001b[0;34m\u001b[0m\u001b[0;34m\u001b[0m\u001b[0m\n\u001b[0m",
            "\u001b[0;31mTypeError\u001b[0m: sum() missing 1 required positional argument: 'n3'"
          ]
        }
      ],
      "source": [
        "class MyClass:\n",
        "  def sum(self,n1,n2):\n",
        "    ans=n1+n2   \n",
        "    print(\"ans is\",ans)\n",
        "  def sum(self,n1,n2,n3):\n",
        "    ans=n1+n2+n3   \n",
        "    print(\"ans is\",ans)\n",
        "\n",
        "a=MyClass()\n",
        "a.sum(2,3)"
      ]
    },
    {
      "cell_type": "code",
      "execution_count": null,
      "metadata": {
        "colab": {
          "base_uri": "https://localhost:8080/"
        },
        "id": "uhFHqTd5KGmv",
        "outputId": "cd9a1f9d-0a2e-4850-8319-30ba011e12f7"
      },
      "outputs": [
        {
          "name": "stdout",
          "output_type": "stream",
          "text": [
            "ans is 9\n"
          ]
        }
      ],
      "source": [
        "class MyClass:\n",
        "  def sum(self,n1,n2):\n",
        "    ans=n1+n2   \n",
        "    print(\"ans is\",ans)\n",
        "  def sum(self,n1,n2,n3):\n",
        "    ans=n1+n2+n3   \n",
        "    print(\"ans is\",ans)\n",
        "\n",
        "a=MyClass()\n",
        "a.sum(2,3,4)"
      ]
    }
  ],
  "metadata": {
    "colab": {
      "authorship_tag": "ABX9TyNinD+3/ZrycPlfBvePTCiI",
      "include_colab_link": true,
      "name": "Day5_Manticlabs.ipynb",
      "provenance": []
    },
    "kernelspec": {
      "display_name": "Python 3.10.5 64-bit",
      "language": "python",
      "name": "python3"
    },
    "language_info": {
      "codemirror_mode": {
        "name": "ipython",
        "version": 3
      },
      "file_extension": ".py",
      "mimetype": "text/x-python",
      "name": "python",
      "nbconvert_exporter": "python",
      "pygments_lexer": "ipython3",
      "version": "3.10.5"
    },
    "vscode": {
      "interpreter": {
        "hash": "af3d4b4a9b36c42385c65ba6cde76bc0fbbfb198037448cb630978b484747b49"
      }
    }
  },
  "nbformat": 4,
  "nbformat_minor": 0
}
